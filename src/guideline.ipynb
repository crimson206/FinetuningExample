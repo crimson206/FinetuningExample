{
 "cells": [
  {
   "cell_type": "markdown",
   "metadata": {},
   "source": [
    "Regarding the coding task, we would like you to finetune/”transfer learn” ResNet18 on Caltech101.\n",
    "\n",
    "ResNet18 : https://pytorch.org/hub/pytorch_vision_resnet/\n",
    "Caltech101 : https://pytorch.org/vision/0.16/datasets.html\n",
    "\n",
    "Here are some guidelines to help you:\n",
    "!gdown 137RyRjvTBkBiIfeYBNZBtViDHQ6_Ewsp\n",
    "!mkdir caltech101\n",
    "!mv 101_ObjectCategories.tar.gz ./caltech101/\n",
    "\n",
    "Use this code to download the dataset if you have any issues:\n",
    "\n",
    "If you have any issues with RAM, use only 1 every 3 samples from the dataset.\n",
    "Training for 10-15 epochs should be enough."
   ]
  }
 ],
 "metadata": {
  "language_info": {
   "name": "python"
  }
 },
 "nbformat": 4,
 "nbformat_minor": 2
}
